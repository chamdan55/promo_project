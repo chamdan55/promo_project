{
 "cells": [
  {
   "cell_type": "code",
   "execution_count": 1,
   "id": "48619dde-8df7-433a-aebb-1b8a4ce0129e",
   "metadata": {},
   "outputs": [],
   "source": [
    "import oracledb\n",
    "import pandas as pd\n",
    "import time\n",
    "import sys"
   ]
  },
  {
   "cell_type": "code",
   "execution_count": 2,
   "id": "863da45c-b87b-41c3-a646-2b288dad25a2",
   "metadata": {},
   "outputs": [],
   "source": [
    "def get_connection(user, password, dsn):#, encoding, nencoding, timezone):\n",
    "    try:\n",
    "        return oracledb.connect(user=user, password=password, dsn=dsn)#, encoding=encoding, nencoding=nencoding,timezone=timezone)\n",
    "    except oracledb.Error as e:\n",
    "        print(f\"Error connecting to Oracle: {e}\")\n",
    "        return None"
   ]
  },
  {
   "cell_type": "code",
   "execution_count": 3,
   "id": "76fdae42-aff9-49a8-bca4-0facc4517fa3",
   "metadata": {},
   "outputs": [
    {
     "name": "stdout",
     "output_type": "stream",
     "text": [
      "Connection Ready\n"
     ]
    }
   ],
   "source": [
    "db_username = \"JABAR\"\n",
    "db_password = \"oracleApri\"\n",
    "host = \"103.127.137.244\"\n",
    "port = \"1521\"\n",
    "service_name = \"FREEPDB1\"\n",
    "\n",
    "# Construct the DSN\n",
    "dsn = oracledb.makedsn(host=host, port=port, service_name=service_name)\n",
    "\n",
    "connection = get_connection(db_username, db_password, dsn)\n",
    "if connection:\n",
    "    print(\"Connection Ready\")\n",
    "else:\n",
    "    print('Failed to Connect!')"
   ]
  },
  {
   "cell_type": "code",
   "execution_count": 6,
   "id": "497578b2-8496-4969-87a7-2d2bda6bd51e",
   "metadata": {},
   "outputs": [],
   "source": [
    "master_promo = pd.read_csv('master_promo.csv')\n",
    "new_data = master_promo[['ID', 'TYPE']].values"
   ]
  },
  {
   "cell_type": "code",
   "execution_count": null,
   "id": "374459ac-7bf2-44e7-8399-e369116ab8b0",
   "metadata": {},
   "outputs": [],
   "source": [
    "with connection.cursor() as cursor:\n",
    "    update_query = \"\"\"\n",
    "        UPDATE MASTER_PROMO\n",
    "        SET TYPE = :2\n",
    "        WHERE id = :1\n",
    "    \"\"\"\n",
    "    for i in range(0, len(new_data), 10000):\n",
    "        \n",
    "        "
   ]
  },
  {
   "cell_type": "code",
   "execution_count": 7,
   "id": "207457eb-ac46-475a-9219-8f3d41dff2ea",
   "metadata": {},
   "outputs": [
    {
     "data": {
      "text/plain": [
       "array([['9jpzQYfliAnCZCOmA8pF_', 2],\n",
       "       ['xS8R33GyCbJIxq8VLo5MW', 1],\n",
       "       ['7Wn7APyug19V9T0do4VPG', 5],\n",
       "       ...,\n",
       "       ['wviYQ5omNBhRc_n630vbu', 2],\n",
       "       ['_aonv4lCBTs19LBO0eRAK', 2],\n",
       "       ['Y_V91Bbl_7oyjk9HFc-yX', 7]], dtype=object)"
      ]
     },
     "execution_count": 7,
     "metadata": {},
     "output_type": "execute_result"
    }
   ],
   "source": [
    "new_data"
   ]
  },
  {
   "cell_type": "code",
   "execution_count": null,
   "id": "cb93e4c4-60f5-4a42-a2e2-1c38fa6b737f",
   "metadata": {},
   "outputs": [],
   "source": []
  }
 ],
 "metadata": {
  "kernelspec": {
   "display_name": "Python 3 (ipykernel)",
   "language": "python",
   "name": "python3"
  },
  "language_info": {
   "codemirror_mode": {
    "name": "ipython",
    "version": 3
   },
   "file_extension": ".py",
   "mimetype": "text/x-python",
   "name": "python",
   "nbconvert_exporter": "python",
   "pygments_lexer": "ipython3",
   "version": "3.12.7"
  }
 },
 "nbformat": 4,
 "nbformat_minor": 5
}
